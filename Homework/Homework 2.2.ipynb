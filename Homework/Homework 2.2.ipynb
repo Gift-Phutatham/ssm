{
 "cells": [
  {
   "cell_type": "code",
   "execution_count": 1,
   "id": "310e987e",
   "metadata": {},
   "outputs": [],
   "source": [
    "import numpy as np\n",
    "import matplotlib.pyplot as plt\n",
    "import matplotlib.animation as animation"
   ]
  },
  {
   "cell_type": "markdown",
   "id": "4ddc309f",
   "metadata": {},
   "source": [
    "### Homework 2.2 - Heat Transfer\n",
    "\n",
    "Use the finite differential method to solve a heat transfer equation, given by\n",
    "\n",
    "$$ \\frac{{\\partial T}}{{\\partial t}} = k\\frac{{{\\partial ^2}T}}{{\\partial {x^2}}} $$\n",
    "\n",
    "where $T(t, x)$ is the temperature distribution function.\n",
    "\n",
    "Solve the equation for $x$ between 0 and 1. At $x=0$ the temperature varies as $T(t,0)=sin(10t)$ and at At $x=1$ the temperature varies as $T(t,0)=e^{ - 100 (t - 0.15)^2}$.\n",
    "\n",
    "Make the animated clip of the temperature distribution function evolution. Pick appropriate time range."
   ]
  },
  {
   "cell_type": "markdown",
   "id": "dcc77834",
   "metadata": {},
   "source": [
    "$$\n",
    "    T(x,t)\n",
    "$$\n",
    "$$\n",
    "    T=0, T(0,t)=sin(10t)\n",
    "$$\n",
    "$$\n",
    "    T=1, T(1,t)=e^{-100 (t - 0.15)^2}\n",
    "$$"
   ]
  },
  {
   "cell_type": "code",
   "execution_count": 2,
   "id": "fefd91bf",
   "metadata": {},
   "outputs": [
    {
     "data": {
      "image/png": "[encoded data removed]",
      "text/plain": [
       "<Figure size 432x288 with 1 Axes>"
      ]
     },
     "metadata": {
      "needs_background": "light"
     },
     "output_type": "display_data"
    }
   ],
   "source": [
    "# Set up an array of Tx0\n",
    "N = 50\n",
    "L = 1\n",
    "x = np.linspace(0, L, num=N + 1, endpoint=True)\n",
    "Tx0 = 0*x\n",
    "\n",
    "Told = Tx0\n",
    "# Set up initial condition for the time derivative at t = 0\n",
    "dTx0 = np.zeros(N + 1)\n",
    "\n",
    "dt = 0.001 # Set up time step size\n",
    "dh = L / N # Spatial step size\n",
    "k = 0.2\n",
    "eps = (k*dt) / dh**2 # dt = eta, dh = delta\n",
    "\n",
    "Txj = np.zeros(N + 1)\n",
    "\n",
    "TAll = np.array([Txj])\n",
    "fig1 = plt.figure()\n",
    "l = plt.plot(x, Txj)\n",
    "axes = plt.gca()\n",
    "axes.set_ylim([-1, 1])\n",
    "\n",
    "n = 1000\n",
    "for j in range(n): # j = t\n",
    "    Tnew = np.zeros(N+1)\n",
    "    Tnew[0] = np.sin(10*j*dt)\n",
    "    Tnew[-1] = np.exp(-100*(j*dt-0.15)**2)\n",
    "    for i in np.linspace(1, N-1, N-1, dtype=int): # i = x\n",
    "        Tnew[i] = eps*(Txj[i+1] - 2*Txj[i] + Txj[i-1]) + Txj[i]\n",
    "    Told = Txj\n",
    "    Txj = Tnew\n",
    "    TAll = np.vstack([TAll, Tnew])\n",
    "\n",
    "def update_line(num, line):\n",
    "    line.set_data(x, TAll[num])\n",
    "    return line,\n",
    "\n",
    "line_ani = animation.FuncAnimation(fig1, update_line, n, fargs=(l), interval=20, blit=True)\n",
    "writergif = animation.PillowWriter(fps=30)\n",
    "line_ani.save('Heat-Transfer.gif', writer=writergif)\n",
    "plt.show()"
   ]
  },
  {
   "cell_type": "code",
   "execution_count": null,
   "id": "9e8e2993",
   "metadata": {},
   "outputs": [],
   "source": []
  }
 ],
 "metadata": {
  "kernelspec": {
   "display_name": "Python 3 (ipykernel)",
   "language": "python",
   "name": "python3"
  },
  "language_info": {
   "codemirror_mode": {
    "name": "ipython",
    "version": 3
   },
   "file_extension": ".py",
   "mimetype": "text/x-python",
   "name": "python",
   "nbconvert_exporter": "python",
   "pygments_lexer": "ipython3",
   "version": "3.8.5"
  }
 },
 "nbformat": 4,
 "nbformat_minor": 5
}
