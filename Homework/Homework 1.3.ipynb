{
 "cells": [
  {
   "cell_type": "markdown",
   "metadata": {},
   "source": [
    "## Homework 1.3 - Pythagorean Problem\n",
    "\n",
    "Consider three bodies of mass, $m1 = 3$, $m_2 = 4$, and $m_3 = 5$, located coordinate $(x, y)$ at $(1, 3)$, $(-2, -1)$ and $(1, -1)$ respectively. All are initially at rest. The interaction between particles are given by Newton's second law of motion and Newton's gravitational law:\n",
    "\n",
    "$${{\\vec F}_i} = {m_i}{a_i} =  - G\\sum\\limits_{i \\ne j} {{m_i}{m_j}\\frac{{{{\\vec r}_i} - {{\\vec r}_j}}}{{{{\\left| {{{\\vec r}_i} - {{\\vec r}_j}} \\right|}^3}}}} $$\n",
    "\n",
    "Using $G = 4 \\pi$, investigate the motion of the particles from $t = 0$ to $t = 10$"
   ]
  },
  {
   "cell_type": "code",
   "execution_count": null,
   "metadata": {
    "collapsed": true
   },
   "outputs": [],
   "source": []
  }
 ],
 "metadata": {
  "kernelspec": {
   "display_name": "Python 3 (ipykernel)",
   "language": "python",
   "name": "python3"
  },
  "language_info": {
   "codemirror_mode": {
    "name": "ipython",
    "version": 3
   },
   "file_extension": ".py",
   "mimetype": "text/x-python",
   "name": "python",
   "nbconvert_exporter": "python",
   "pygments_lexer": "ipython3",
   "version": "3.9.6"
  }
 },
 "nbformat": 4,
 "nbformat_minor": 1
}
