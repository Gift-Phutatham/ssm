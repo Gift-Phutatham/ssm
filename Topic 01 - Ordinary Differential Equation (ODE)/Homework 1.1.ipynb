{
 "cells": [
  {
   "cell_type": "markdown",
   "metadata": {},
   "source": [
    "## Homework 2.1 - Electro static potential of a square disc\n",
    "\n",
    "Consider a square region in the $xy$-plane, such that $-1 \\le x \\le 1$ and $-1 \\le y \\le 1$, containing a uniform charge distribution $\\rho$. The electro static potential at the point $(x_p, y_p)$ due to this charge distribution is obtained by integrating over the charged region.\n",
    "\n",
    "$$\\Phi ({x_p},{y_p}) = \\frac{\\rho }{{4\\pi {\\varepsilon _0}}}\\int_{ - 1}^1 {\\int_{ - 1}^1 {\\frac{1}{{\\sqrt {{{(x - {x_p})}^2} + {{(y - {y_p})}^2}} }}} {dxdy} } $$\n",
    "\n",
    "For simplicity, use $\\frac{\\rho }{{4\\pi {\\varepsilon _0}}} = 1$. Evaluate the electric potentials $\\Phi(2, 2)$, $\\Phi(2, 4)$, $\\Phi(5, 10)$ and  $\\Phi(15, 15)$."
   ]
  },
  {
   "cell_type": "code",
   "execution_count": null,
   "metadata": {
    "collapsed": true
   },
   "outputs": [],
   "source": []
  }
 ],
 "metadata": {
  "kernelspec": {
   "display_name": "Python 2",
   "language": "python",
   "name": "python2"
  },
  "language_info": {
   "codemirror_mode": {
    "name": "ipython",
    "version": 2
   },
   "file_extension": ".py",
   "mimetype": "text/x-python",
   "name": "python",
   "nbconvert_exporter": "python",
   "pygments_lexer": "ipython2",
   "version": "2.7.11"
  }
 },
 "nbformat": 4,
 "nbformat_minor": 0
}
