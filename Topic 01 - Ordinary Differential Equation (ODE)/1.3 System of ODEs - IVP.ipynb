{
 "cells": [
  {
   "cell_type": "markdown",
   "metadata": {},
   "source": [
    "## 1.3 System of ODEs - IVP\n",
    "\n",
    "**Exercise 1:** Springy Pendulum\n",
    "\n",
    "A mass $m$ is attached to a spring with spring constant $k$, which is attached to a support point as shown in the figure. The length of the resulting pendulum at any given time is the spring rest length $x_0$ plus the stretch (or compression) $x$, and the angle of the pendulum with respect to the vertical is $\\theta$."
   ]
  },
  {
   "cell_type": "markdown",
   "metadata": {
    "collapsed": true
   },
   "source": [
    "![alt text](images/springy-pendulum.png \"Springy Pendulum\")"
   ]
  },
  {
   "cell_type": "markdown",
   "metadata": {},
   "source": [
    "The differential equations for this system are given by:\n",
    "$$\\ddot x = ({x_0} + x){\\dot \\theta ^2} - \\frac{k}{m}x + g\\cos \\theta $$\n",
    "$$\\ddot \\theta  =  - \\frac{1}{{{x_0} + x}}\\left[ {g\\sin \\theta  + 2\\dot x\\dot \\theta } \\right]$$\n",
    "\n",
    "Let\n",
    "\n",
    "$x_0 = 1$ spring natural length\n",
    "\n",
    "$x = 1$ initial spring extension\n",
    "\n",
    "$\\dot {x}_0 = 0$ initial velocity\n",
    "\n",
    "$\\theta_0 = 0.3$ initial angle in radians\n",
    "\n",
    "$\\dot {\\theta}_0 = 0$ initial angular velocity\n",
    "\n",
    "$k = 3.5$ spring constant\n",
    "\n",
    "$m = 0.2$ mass in $kg$\n",
    "\n",
    "$g = 9.8$ $m/s^2$\n",
    "\n",
    "Write a program to plot the positions of the mass $m$ in $x-y$ coordinate over the time interval $0 \\le t \\le 25\\; s$."
   ]
  },
  {
   "cell_type": "code",
   "execution_count": null,
   "metadata": {
    "collapsed": true
   },
   "outputs": [],
   "source": []
  },
  {
   "cell_type": "markdown",
   "metadata": {},
   "source": [
    "---\n",
    "**Exercise 2:** Double pendulum\n",
    "\n",
    "![alt text](images/double-pendulum.png \"Double Pendulum\")\n",
    "\n",
    "The equations of motion for the double pendulum are given by [from http://scienceworld.wolfram.com/physics/DoublePendulum.html]:\n"
   ]
  },
  {
   "cell_type": "markdown",
   "metadata": {},
   "source": [
    "$$({m_1} + {m_2}){l_1}{{\\ddot \\theta }_1} + {m_2}{l_2}{{\\ddot \\theta }_2}\\cos ({\\theta _1} - {\\theta _2}) + {m_2}{l_2}{({{\\dot \\theta }_2})^2}\\sin ({\\theta _1} - {\\theta _2}) + ({m_1} + {m_2})g\\sin {\\theta _1} = 0$$"
   ]
  },
  {
   "cell_type": "markdown",
   "metadata": {},
   "source": [
    "$${m_2}{l_2}{{\\ddot \\theta }_2} + {m_2}{l_1}{{\\ddot \\theta }_1}\\cos ({\\theta _1} - {\\theta _2}) - {m_2}{l_1}{({{\\dot \\theta }_1})^2}\\sin ({\\theta _1} - {\\theta _2}) + {m_2}g\\sin {\\theta _2} = 0$$"
   ]
  },
  {
   "cell_type": "markdown",
   "metadata": {},
   "source": [
    "Given that $l_1 = 1$, $l_2 = 2$, $m_1 = 2$, $m_2 = 1$ and $g = 9.8$ $m/s^2$\n",
    "\n",
    "The initial conditions at $t = 0$ are:\n",
    "\n",
    "${{\\theta }_1}(0) = 1.5$\n",
    "\n",
    "${{\\dot \\theta }_1}(0) = 0$\n",
    "\n",
    "${{\\theta }_2}(0) = 3.0$\n",
    "\n",
    "${{\\dot \\theta }_2}(0) = 0.0$\n",
    "\n",
    "Write a program to plots the positions of the mass $m_2$ in $x-y$ coordinate over the time interval $0 \\le t \\le T\\; s$. Where $T$ are:\n",
    "\n",
    "a) 10\n",
    "\n",
    "b) 100"
   ]
  },
  {
   "cell_type": "code",
   "execution_count": null,
   "metadata": {
    "collapsed": true
   },
   "outputs": [],
   "source": []
  }
 ],
 "metadata": {
  "kernelspec": {
   "display_name": "Python 3 (ipykernel)",
   "language": "python",
   "name": "python3"
  },
  "language_info": {
   "codemirror_mode": {
    "name": "ipython",
    "version": 3
   },
   "file_extension": ".py",
   "mimetype": "text/x-python",
   "name": "python",
   "nbconvert_exporter": "python",
   "pygments_lexer": "ipython3",
   "version": "3.9.6"
  }
 },
 "nbformat": 4,
 "nbformat_minor": 1
}
